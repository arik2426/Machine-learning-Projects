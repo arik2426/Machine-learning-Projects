{
 "cells": [
  {
   "cell_type": "code",
   "execution_count": 26,
   "id": "376bf7f0",
   "metadata": {
    "scrolled": true
   },
   "outputs": [],
   "source": [
    "import numpy as np\n",
    "from sklearn.linear_model import LinearRegression\n",
    "import matplotlib.pyplot as plt"
   ]
  },
  {
   "cell_type": "code",
   "execution_count": 27,
   "id": "5bd62d4a",
   "metadata": {
    "scrolled": false
   },
   "outputs": [
    {
     "data": {
      "image/png": "[encoded data removed]",
      "text/plain": [
       "<Figure size 640x480 with 1 Axes>"
      ]
     },
     "metadata": {},
     "output_type": "display_data"
    }
   ],
   "source": [
    "Train_data = np.loadtxt('PolynomialRegressionExercice_TRAIN_DATA.txt',delimiter=',', skiprows = 1)\n",
    "x_train = Train_data[:,0]\n",
    "t_train = Train_data[:,1]\n",
    "\n",
    "Test_data = np.loadtxt('PolynomialRegressionExercice_TEST_DATA.txt',delimiter=',', skiprows = 1)\n",
    "x_test = Test_data[:,0]\n",
    "t_test = Test_data[:,1]\n",
    "\n",
    "plt.plot(x_train,t_train,'.', color='red', label='Train')\n",
    "plt.plot(x_test,t_test,'.', color='blue', label='Test')\n",
    "plt.xlabel('x')\n",
    "plt.ylabel('t')\n",
    "plt.legend()\n",
    "plt.show()"
   ]
  },
  {
   "cell_type": "code",
   "execution_count": 28,
   "id": "c6ec1971",
   "metadata": {},
   "outputs": [],
   "source": [
    "def calc_x(D):\n",
    "    N_train = x_train.shape[0]\n",
    "    X_train = np.ones((N_train,D+1))\n",
    "    for d in range(1,D+1):\n",
    "        X_train[:,d] = x_train**d\n",
    "\n",
    "    W_train = np.linalg.inv(X_train.T @ X_train) @ X_train.T @ t_train\n",
    "    \n",
    "    ERROR_train = ((t_train - X_train@W_train).T @ (t_train - X_train@W_train)) / N_train\n",
    "        \n",
    "    N_test = x_test.shape[0]\n",
    "    X_test = np.ones((N_test,D+1))\n",
    "    for d in range(1,D+1):\n",
    "        X_test[:,d] = x_test**d\n",
    "\n",
    "    W_test = np.linalg.inv(X_test.T @ X_test) @ X_test.T @ t_test\n",
    "    \n",
    "    ERROR_test = ((t_test - X_test@W_test).T @ (t_test - X_test@W_test)) / N_test\n",
    "    \n",
    "    return X_train, X_test\n"
   ]
  },
  {
   "cell_type": "code",
   "execution_count": 29,
   "id": "12dd5aeb",
   "metadata": {},
   "outputs": [],
   "source": [
    "def calc_w(D):\n",
    "    N_train = x_train.shape[0]\n",
    "    X_train = np.ones((N_train,D+1))\n",
    "    for d in range(1,D+1):\n",
    "        X_train[:,d] = x_train**d\n",
    "\n",
    "    W_train = np.linalg.inv(X_train.T @ X_train) @ X_train.T @ t_train\n",
    "    \n",
    "    ERROR_train = ((t_train - X_train@W_train).T @ (t_train - X_train@W_train)) / N_train\n",
    "    \n",
    "    N_test = x_test.shape[0]\n",
    "    X_test = np.ones((N_test,D+1))\n",
    "    for d in range(1,D+1):\n",
    "        X_test[:,d] = x_test**d\n",
    "\n",
    "    W_test = np.linalg.inv(X_test.T @ X_test) @ X_test.T @ t_test\n",
    "    \n",
    "    ERROR_test = ((t_test - X_test@W_test).T @ (t_test - X_test@W_test)) / N_test\n",
    "    \n",
    "    return W_train, W_test"
   ]
  },
  {
   "cell_type": "code",
   "execution_count": 30,
   "id": "19835b5d",
   "metadata": {},
   "outputs": [],
   "source": [
    "def calc_error(D):\n",
    "    N_train = x_train.shape[0]\n",
    "    X_train = np.ones((N_train,D+1))\n",
    "    for d in range(1,D+1):\n",
    "        X_train[:,d] = x_train**d\n",
    "\n",
    "    W_train = np.linalg.inv(X_train.T @ X_train) @ X_train.T @ t_train\n",
    "    \n",
    "    ERROR_train = ((t_train - X_train@W_train).T @ (t_train - X_train@W_train)) / N_train\n",
    "    \n",
    "    N_test = x_test.shape[0]\n",
    "    X_test = np.ones((N_test,D+1))\n",
    "    for d in range(1,D+1):\n",
    "        X_test[:,d] = x_test**d\n",
    "\n",
    "    W_test = np.linalg.inv(X_test.T @ X_test) @ X_test.T @ t_test\n",
    "    \n",
    "    ERROR_test = ((t_test - X_test@W_test).T @ (t_test - X_test@W_test)) / N_test\n",
    "    \n",
    "    return ERROR_train,ERROR_test\n"
   ]
  },
  {
   "cell_type": "code",
   "execution_count": 31,
   "id": "bd2808d1",
   "metadata": {},
   "outputs": [],
   "source": [
    "def calc_error_train(D):\n",
    "    N_train = x_train.shape[0]\n",
    "    X_train = np.ones((N_train,D+1))\n",
    "    for d in range(1,D+1):\n",
    "        X_train[:,d] = x_train**d\n",
    "\n",
    "    W_train = np.linalg.inv(X_train.T @ X_train) @ X_train.T @ t_train\n",
    "    \n",
    "    ERROR_train = ((t_train - X_train@W_train).T @ (t_train - X_train@W_train)) / N_train\n",
    "       \n",
    "    return ERROR_train\n"
   ]
  },
  {
   "cell_type": "code",
   "execution_count": 32,
   "id": "035222b6",
   "metadata": {},
   "outputs": [],
   "source": [
    "def calc_error_test(D):\n",
    "    N_test = x_test.shape[0]\n",
    "    X_test = np.ones((N_test,D+1))\n",
    "    for d in range(1,D+1):\n",
    "        X_test[:,d] = x_test**d\n",
    "\n",
    "    W_test = np.linalg.inv(X_test.T @ X_test) @ X_test.T @ t_test\n",
    "    \n",
    "    ERROR_test = ((t_test - X_test@W_test).T @ (t_test - X_test@W_test)) / N_test\n",
    "    \n",
    "    return ERROR_test\n"
   ]
  },
  {
   "cell_type": "code",
   "execution_count": 33,
   "id": "6b90ff5a",
   "metadata": {
    "scrolled": false
   },
   "outputs": [
    {
     "data": {
      "text/plain": [
       "(array([[ 1.      , -2.777   ,  7.711729],\n",
       "        [ 1.      , -2.264   ,  5.125696],\n",
       "        [ 1.      , -2.139   ,  4.575321],\n",
       "        [ 1.      , -1.141   ,  1.301881],\n",
       "        [ 1.      , -0.608   ,  0.369664],\n",
       "        [ 1.      ,  0.543   ,  0.294849],\n",
       "        [ 1.      ,  1.02    ,  1.0404  ],\n",
       "        [ 1.      ,  1.045   ,  1.092025],\n",
       "        [ 1.      ,  1.615   ,  2.608225],\n",
       "        [ 1.      ,  2.32    ,  5.3824  ],\n",
       "        [ 1.      ,  3.268   , 10.679824],\n",
       "        [ 1.      ,  3.498   , 12.236004],\n",
       "        [ 1.      ,  3.865   , 14.938225],\n",
       "        [ 1.      ,  5.225   , 27.300625],\n",
       "        [ 1.      ,  5.809   , 33.744481]]),\n",
       " array([[ 1.0000000e+00, -2.9370000e+00,  8.6259690e+00],\n",
       "        [ 1.0000000e+00, -2.8710000e+00,  8.2426410e+00],\n",
       "        [ 1.0000000e+00, -2.3870000e+00,  5.6977690e+00],\n",
       "        [ 1.0000000e+00, -2.0370000e+00,  4.1493690e+00],\n",
       "        [ 1.0000000e+00, -1.9280000e+00,  3.7171840e+00],\n",
       "        [ 1.0000000e+00, -1.8760000e+00,  3.5193760e+00],\n",
       "        [ 1.0000000e+00, -1.8720000e+00,  3.5043840e+00],\n",
       "        [ 1.0000000e+00, -1.7350000e+00,  3.0102250e+00],\n",
       "        [ 1.0000000e+00, -1.7030000e+00,  2.9002090e+00],\n",
       "        [ 1.0000000e+00, -1.3940000e+00,  1.9432360e+00],\n",
       "        [ 1.0000000e+00, -1.2950000e+00,  1.6770250e+00],\n",
       "        [ 1.0000000e+00, -1.1530000e+00,  1.3294090e+00],\n",
       "        [ 1.0000000e+00, -5.4300000e-01,  2.9484900e-01],\n",
       "        [ 1.0000000e+00, -5.0700000e-01,  2.5704900e-01],\n",
       "        [ 1.0000000e+00, -2.5200000e-01,  6.3504000e-02],\n",
       "        [ 1.0000000e+00, -7.4000000e-02,  5.4760000e-03],\n",
       "        [ 1.0000000e+00,  9.5200000e-01,  9.0630400e-01],\n",
       "        [ 1.0000000e+00,  1.1540000e+00,  1.3317160e+00],\n",
       "        [ 1.0000000e+00,  1.5680000e+00,  2.4586240e+00],\n",
       "        [ 1.0000000e+00,  1.8460000e+00,  3.4077160e+00],\n",
       "        [ 1.0000000e+00,  2.4590000e+00,  6.0466810e+00],\n",
       "        [ 1.0000000e+00,  2.4770000e+00,  6.1355290e+00],\n",
       "        [ 1.0000000e+00,  2.5490000e+00,  6.4974010e+00],\n",
       "        [ 1.0000000e+00,  2.8020000e+00,  7.8512040e+00],\n",
       "        [ 1.0000000e+00,  3.2880000e+00,  1.0810944e+01],\n",
       "        [ 1.0000000e+00,  3.7010000e+00,  1.3697401e+01],\n",
       "        [ 1.0000000e+00,  4.0430000e+00,  1.6345849e+01],\n",
       "        [ 1.0000000e+00,  4.2140000e+00,  1.7757796e+01],\n",
       "        [ 1.0000000e+00,  4.3250000e+00,  1.8705625e+01],\n",
       "        [ 1.0000000e+00,  4.4410000e+00,  1.9722481e+01],\n",
       "        [ 1.0000000e+00,  4.9620000e+00,  2.4621444e+01],\n",
       "        [ 1.0000000e+00,  5.0000000e+00,  2.5000000e+01],\n",
       "        [ 1.0000000e+00,  5.1580000e+00,  2.6604964e+01],\n",
       "        [ 1.0000000e+00,  5.3840000e+00,  2.8987456e+01],\n",
       "        [ 1.0000000e+00,  5.4040000e+00,  2.9203216e+01],\n",
       "        [ 1.0000000e+00,  5.4290000e+00,  2.9474041e+01],\n",
       "        [ 1.0000000e+00,  5.5280000e+00,  3.0558784e+01],\n",
       "        [ 1.0000000e+00,  5.6860000e+00,  3.2330596e+01],\n",
       "        [ 1.0000000e+00,  5.7340000e+00,  3.2878756e+01],\n",
       "        [ 1.0000000e+00,  5.9580000e+00,  3.5497764e+01]]))"
      ]
     },
     "execution_count": 33,
     "metadata": {},
     "output_type": "execute_result"
    }
   ],
   "source": [
    "calc_x(2)"
   ]
  },
  {
   "cell_type": "code",
   "execution_count": 34,
   "id": "dec972fa",
   "metadata": {
    "scrolled": false
   },
   "outputs": [
    {
     "data": {
      "text/plain": [
       "(array([-13.42458791,   4.75216519,   0.70576226]),\n",
       " array([-14.30030842,   4.15682497,   0.91872406]))"
      ]
     },
     "execution_count": 34,
     "metadata": {},
     "output_type": "execute_result"
    }
   ],
   "source": [
    "calc_w(2)"
   ]
  },
  {
   "cell_type": "code",
   "execution_count": 35,
   "id": "a11c6456",
   "metadata": {
    "scrolled": true
   },
   "outputs": [
    {
     "data": {
      "text/plain": [
       "(195.88521635322147, 206.54696280993548)"
      ]
     },
     "execution_count": 35,
     "metadata": {},
     "output_type": "execute_result"
    }
   ],
   "source": [
    "calc_error(2)"
   ]
  },
  {
   "cell_type": "code",
   "execution_count": 36,
   "id": "76b43a88",
   "metadata": {},
   "outputs": [],
   "source": [
    "for n in range(0,11):\n",
    "    calc_x(n)\n",
    "    calc_w(n)\n",
    "    calc_error(n)"
   ]
  },
  {
   "cell_type": "code",
   "execution_count": 38,
   "id": "fb72e5fa",
   "metadata": {
    "scrolled": false
   },
   "outputs": [
    {
     "data": {
      "image/png": "[encoded data removed]",
      "text/plain": [
       "<Figure size 640x480 with 1 Axes>"
      ]
     },
     "metadata": {},
     "output_type": "display_data"
    }
   ],
   "source": [
    "# Create an array for the x values (degrees of the polynomial)\n",
    "degrees = np.arange(0, 11)\n",
    "\n",
    "plt.plot(degrees, error_train, '.', color='red', label='Training')\n",
    "plt.plot(degrees, error_test, '.', color='blue', label='Test')\n",
    "plt.xlabel('D')\n",
    "plt.ylabel('MSE')\n",
    "plt.legend()\n",
    "plt.show()\n"
   ]
  },
  {
   "cell_type": "code",
   "execution_count": null,
   "id": "d02532a9",
   "metadata": {},
   "outputs": [],
   "source": []
  }
 ],
 "metadata": {
  "kernelspec": {
   "display_name": "Python 3 (ipykernel)",
   "language": "python",
   "name": "python3"
  },
  "language_info": {
   "codemirror_mode": {
    "name": "ipython",
    "version": 3
   },
   "file_extension": ".py",
   "mimetype": "text/x-python",
   "name": "python",
   "nbconvert_exporter": "python",
   "pygments_lexer": "ipython3",
   "version": "3.9.12"
  }
 },
 "nbformat": 4,
 "nbformat_minor": 5
}
