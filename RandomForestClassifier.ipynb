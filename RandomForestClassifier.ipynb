{
 "cells": [
  {
   "cell_type": "code",
   "execution_count": 32,
   "id": "e7cd5e03",
   "metadata": {},
   "outputs": [],
   "source": [
    "import pandas as pd\n",
    "import numpy as np\n",
    "import matplotlib.pyplot as plt\n",
    "from sklearn.model_selection import cross_val_score, train_test_split\n",
    "from sklearn.tree import DecisionTreeClassifier\n",
    "from sklearn import tree\n",
    "from sklearn.metrics import confusion_matrix\n",
    "from sklearn.ensemble import RandomForestClassifier\n",
    "import seaborn as sns"
   ]
  },
  {
   "cell_type": "code",
   "execution_count": 33,
   "id": "feb29933",
   "metadata": {},
   "outputs": [],
   "source": [
    "# Load the CSV file\n",
    "data = pd.read_csv(\"pima.csv\")\n",
    "\n",
    "#Split to X, Y\n",
    "X=data.iloc[:,0:7]\n",
    "X=np.array(X)\n",
    "Y=data.iloc[:,8]\n",
    "Y=np.array(Y)"
   ]
  },
  {
   "cell_type": "code",
   "execution_count": 34,
   "id": "3d17363c",
   "metadata": {},
   "outputs": [],
   "source": [
    "X_train, X_test, Y_train, Y_test = train_test_split(X, Y, test_size=0.2) "
   ]
  },
  {
   "cell_type": "code",
   "execution_count": 35,
   "id": "e420fa85",
   "metadata": {},
   "outputs": [
    {
     "data": {
      "text/plain": [
       "Index(['preg', 'plas', 'pres', 'skin', 'test', 'mass', 'pedi', 'age', 'class'], dtype='object')"
      ]
     },
     "execution_count": 35,
     "metadata": {},
     "output_type": "execute_result"
    }
   ],
   "source": [
    "data.columns"
   ]
  },
  {
   "cell_type": "code",
   "execution_count": 36,
   "id": "3def97aa",
   "metadata": {
    "scrolled": false
   },
   "outputs": [],
   "source": [
    "model = RandomForestClassifier() \n",
    "model.probability=True"
   ]
  },
  {
   "cell_type": "markdown",
   "id": "4dbb3244",
   "metadata": {},
   "source": [
    "number of trees = 100\n",
    "max_depth = none\n",
    "min_samples_split = 2\n",
    "min_samples_leaf = 1\n",
    "\n",
    "\n"
   ]
  },
  {
   "cell_type": "code",
   "execution_count": 37,
   "id": "5b394fb7",
   "metadata": {},
   "outputs": [
    {
     "data": {
      "text/plain": [
       "RandomForestClassifier()"
      ]
     },
     "execution_count": 37,
     "metadata": {},
     "output_type": "execute_result"
    }
   ],
   "source": [
    "model.fit(X_train,Y_train)"
   ]
  },
  {
   "cell_type": "code",
   "execution_count": 38,
   "id": "29be4ea5",
   "metadata": {},
   "outputs": [
    {
     "data": {
      "text/plain": [
       "1.0"
      ]
     },
     "execution_count": 38,
     "metadata": {},
     "output_type": "execute_result"
    }
   ],
   "source": [
    "acc_train = (Y_train == model.predict(X_train)).mean()\n",
    "acc_train"
   ]
  },
  {
   "cell_type": "code",
   "execution_count": 39,
   "id": "06db00be",
   "metadata": {},
   "outputs": [
    {
     "data": {
      "text/plain": [
       "0.7272727272727273"
      ]
     },
     "execution_count": 39,
     "metadata": {},
     "output_type": "execute_result"
    }
   ],
   "source": [
    "acc_test= (Y_test == model.predict(X_test)).mean()\n",
    "acc_test"
   ]
  },
  {
   "cell_type": "code",
   "execution_count": 40,
   "id": "32c890f8",
   "metadata": {
    "scrolled": false
   },
   "outputs": [],
   "source": [
    "y_predTe = model.predict(X_test)\n",
    "conf_matrixTe = confusion_matrix(Y_test,y_predTe)"
   ]
  },
  {
   "cell_type": "code",
   "execution_count": 41,
   "id": "22f4c527",
   "metadata": {
    "scrolled": true
   },
   "outputs": [
    {
     "data": {
      "text/plain": [
       "array([[84, 13],\n",
       "       [29, 28]], dtype=int64)"
      ]
     },
     "execution_count": 41,
     "metadata": {},
     "output_type": "execute_result"
    }
   ],
   "source": [
    "conf_matrixTe #test"
   ]
  },
  {
   "cell_type": "code",
   "execution_count": 42,
   "id": "3dbdf6c4",
   "metadata": {},
   "outputs": [
    {
     "data": {
      "image/png": "[encoded data removed]",
      "text/plain": [
       "<Figure size 432x288 with 1 Axes>"
      ]
     },
     "metadata": {
      "needs_background": "light"
     },
     "output_type": "display_data"
    }
   ],
   "source": [
    "sns.heatmap(conf_matrixTe, annot=True, fmt='d', cmap='Blues', cbar=False)\n",
    "plt.xlabel('Predicted Label')\n",
    "plt.ylabel('True Label')\n",
    "plt.title('Confusion Matrix')\n",
    "plt.show()"
   ]
  },
  {
   "cell_type": "code",
   "execution_count": 43,
   "id": "779607d5",
   "metadata": {},
   "outputs": [],
   "source": [
    "y_predTr = model.predict(X_train)\n",
    "conf_matrixTr = confusion_matrix(Y_train,y_predTr)"
   ]
  },
  {
   "cell_type": "code",
   "execution_count": 44,
   "id": "f636c2f4",
   "metadata": {},
   "outputs": [
    {
     "data": {
      "text/plain": [
       "array([[403,   0],\n",
       "       [  0, 211]], dtype=int64)"
      ]
     },
     "execution_count": 44,
     "metadata": {},
     "output_type": "execute_result"
    }
   ],
   "source": [
    "conf_matrixTr #train"
   ]
  },
  {
   "cell_type": "code",
   "execution_count": 45,
   "id": "781b7e6f",
   "metadata": {},
   "outputs": [
    {
     "data": {
      "image/png": "[encoded data removed]",
      "text/plain": [
       "<Figure size 432x288 with 1 Axes>"
      ]
     },
     "metadata": {
      "needs_background": "light"
     },
     "output_type": "display_data"
    }
   ],
   "source": [
    "sns.heatmap(conf_matrixTr, annot=True, fmt='d', cmap='Blues', cbar=False)\n",
    "plt.xlabel('Predicted Label')\n",
    "plt.ylabel('True Label')\n",
    "plt.title('Confusion Matrix')\n",
    "plt.show()"
   ]
  },
  {
   "cell_type": "code",
   "execution_count": 46,
   "id": "38a231f1",
   "metadata": {
    "scrolled": true
   },
   "outputs": [
    {
     "data": {
      "text/plain": [
       "array([0.11301166, 0.30236946, 0.09920195, 0.07428517, 0.07870784,\n",
       "       0.19417205, 0.13825186])"
      ]
     },
     "execution_count": 46,
     "metadata": {},
     "output_type": "execute_result"
    }
   ],
   "source": [
    "feautre_importances = np.array([tree.feature_importances_ for tree in model.estimators_])\n",
    "feautre_importances = feautre_importances.mean(axis=0)\n",
    "feautre_importances_std = feautre_importances.std(axis=0)\n",
    "feautre_importances"
   ]
  },
  {
   "cell_type": "code",
   "execution_count": 47,
   "id": "a76bcafb",
   "metadata": {},
   "outputs": [
    {
     "data": {
      "text/plain": [
       "array([0.07496523, 0.3552798 , 0.07378132, 0.05872856, 0.06911843,\n",
       "       0.19718677, 0.17093989])"
      ]
     },
     "execution_count": 47,
     "metadata": {},
     "output_type": "execute_result"
    }
   ],
   "source": [
    "model.estimators_[0].feature_importances_"
   ]
  },
  {
   "cell_type": "code",
   "execution_count": 48,
   "id": "504452b0",
   "metadata": {},
   "outputs": [
    {
     "data": {
      "image/png": "[encoded data removed]",
      "text/plain": [
       "<Figure size 432x288 with 2 Axes>"
      ]
     },
     "metadata": {
      "needs_background": "light"
     },
     "output_type": "display_data"
    }
   ],
   "source": [
    "depths = [2, 4, 6, 8, 10]\n",
    "trees = [10, 50, 100, 150, 200]\n",
    "\n",
    "results = []\n",
    "for depth in depths:\n",
    "    results_row = []\n",
    "    for tree in trees:\n",
    "        model = RandomForestClassifier(n_estimators=tree, max_depth=depth, random_state=42)\n",
    "        scores = cross_val_score(model, X_train, Y_train, cv=5)\n",
    "        results_row.append(scores.mean())\n",
    "    results.append(results_row)\n",
    "\n",
    "fig, ax = plt.subplots()\n",
    "im = ax.imshow(results, cmap='YlGn')\n",
    "\n",
    "# Add labels to the plot\n",
    "ax.set_xticks(range(len(trees)))\n",
    "ax.set_yticks(range(len(depths)))\n",
    "ax.set_xticklabels(trees)\n",
    "ax.set_yticklabels(depths)\n",
    "plt.setp(ax.get_xticklabels(), rotation=45, ha=\"right\",\n",
    "         rotation_mode=\"anchor\")\n",
    "\n",
    "# Add colorbar\n",
    "cbar = ax.figure.colorbar(im, ax=ax)\n",
    "\n",
    "# Add title and axis labels\n",
    "ax.set_title(\"Mean CV Accuracy for different tree depths and numbers of trees\")\n",
    "ax.set_xlabel(\"Number of Trees\")\n",
    "ax.set_ylabel(\"Max Tree Depth\")\n",
    "\n",
    "# Loop over data dimensions and create text annotations\n",
    "for i in range(len(depths)):\n",
    "    for j in range(len(trees)):\n",
    "        text = ax.text(j, i, f\"{results[i][j]:.2f}\",\n",
    "                       ha=\"center\", va=\"center\", color=\"black\")\n",
    "\n",
    "plt.show()"
   ]
  },
  {
   "cell_type": "code",
   "execution_count": null,
   "id": "1c80c706",
   "metadata": {},
   "outputs": [],
   "source": []
  }
 ],
 "metadata": {
  "kernelspec": {
   "display_name": "Python 3 (ipykernel)",
   "language": "python",
   "name": "python3"
  },
  "language_info": {
   "codemirror_mode": {
    "name": "ipython",
    "version": 3
   },
   "file_extension": ".py",
   "mimetype": "text/x-python",
   "name": "python",
   "nbconvert_exporter": "python",
   "pygments_lexer": "ipython3",
   "version": "3.9.12"
  }
 },
 "nbformat": 4,
 "nbformat_minor": 5
}
