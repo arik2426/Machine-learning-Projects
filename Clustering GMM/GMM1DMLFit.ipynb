{
 "cells": [
  {
   "cell_type": "code",
   "execution_count": 1,
   "id": "8d2350bc",
   "metadata": {},
   "outputs": [],
   "source": [
    "import pandas as pd\n",
    "import numpy as np\n",
    "from matplotlib import pyplot as plt\n",
    "import seaborn as sns "
   ]
  },
  {
   "cell_type": "code",
   "execution_count": 2,
   "id": "0fe769cf",
   "metadata": {},
   "outputs": [],
   "source": [
    "dataset_large = pd.read_csv(\"GMM_250_samples.csv\", header=None).values\n",
    "dataset_small = pd.read_csv(\"GMM_25_samples.csv\", header=None).values"
   ]
  },
  {
   "cell_type": "code",
   "execution_count": 3,
   "id": "89c19986",
   "metadata": {},
   "outputs": [],
   "source": [
    "def parameter_initialization(data, K=3):\n",
    "    np.random.shuffle(data)\n",
    "    init_means = data[:K]\n",
    "    init_cov = np.ones(K) * 0.1\n",
    "    init_mixing_coeffs = np.ones(K) / K\n",
    "    return init_means, init_cov, init_mixing_coeffs"
   ]
  },
  {
   "cell_type": "code",
   "execution_count": 4,
   "id": "d917dfa1",
   "metadata": {},
   "outputs": [],
   "source": [
    "def membership_calculation(data, means, covariances, mixing_coeffs):\n",
    "    component_number, sample_number = len(means), len(data)\n",
    "\n",
    "    member_weights = np.zeros((sample_number, component_number))\n",
    "\n",
    "    for i in range(sample_number):\n",
    "        for j in range(component_number):\n",
    "            likelihood_component = mixing_coeffs[j] * \\\n",
    "                np.exp(-0.5 * ((data[i] - means[j]) ** 2) / covariances[j])\n",
    "            member_weight = likelihood_component / np.sum(\n",
    "                mixing_coeffs * np.exp(-0.5 * ((data[i] - means) ** 2) / covariances)\n",
    "            )\n",
    "            member_weights[i][j] = member_weight\n",
    "\n",
    "    return member_weights"
   ]
  },
  {
   "cell_type": "code",
   "execution_count": 5,
   "id": "b3eb80df",
   "metadata": {},
   "outputs": [],
   "source": [
    "def parameter_estimation(data, member_weights):\n",
    "    sample_count = len(data)\n",
    "    means = np.sum(member_weights * data.reshape(sample_count, 1), axis=0) / np.sum(member_weights, axis=0)\n",
    "    covariances = np.sum(member_weights * ((data.reshape(sample_count, 1) - means) ** 2), axis=0) / np.sum(member_weights, axis=0)\n",
    "    mixing_coeffs = np.mean(member_weights, axis=0)\n",
    "    return means, covariances, mixing_coeffs"
   ]
  },
  {
   "cell_type": "code",
   "execution_count": 6,
   "id": "f2a08098",
   "metadata": {},
   "outputs": [],
   "source": [
    "def gmm_algorithm(data, K=3):\n",
    "    starting_means, starting_covariances, starting_mixing_coeffs = parameter_initialization(data, K)\n",
    "    member_weights = membership_calculation(data, starting_means, starting_covariances, starting_mixing_coeffs)\n",
    "    estimated_params = parameter_estimation(data, member_weights)\n",
    "    return estimated_params"
   ]
  },
  {
   "cell_type": "code",
   "execution_count": 7,
   "id": "1126e57c",
   "metadata": {},
   "outputs": [
    {
     "data": {
      "text/plain": [
       "(array([1.91830198, 3.95597775, 2.9419255 ]),\n",
       " array([0.13543884, 0.04563449, 0.06890781]),\n",
       " array([0.11870496, 0.06944617, 0.1451822 ]))"
      ]
     },
     "execution_count": 7,
     "metadata": {},
     "output_type": "execute_result"
    }
   ],
   "source": [
    "gmm_algorithm(dataset_large, K=3)"
   ]
  },
  {
   "cell_type": "code",
   "execution_count": 8,
   "id": "ccaf1867",
   "metadata": {},
   "outputs": [
    {
     "data": {
      "text/plain": [
       "(array([2.32064701, 1.90205746, 3.11835658]),\n",
       " array([0.28631186, 0.07373786, 0.51488645]),\n",
       " array([0.06993242, 0.03569702, 0.22770389]))"
      ]
     },
     "execution_count": 8,
     "metadata": {},
     "output_type": "execute_result"
    }
   ],
   "source": [
    "gmm_algorithm(dataset_small, K=3)"
   ]
  },
  {
   "cell_type": "code",
   "execution_count": null,
   "id": "38786beb",
   "metadata": {},
   "outputs": [],
   "source": []
  }
 ],
 "metadata": {
  "kernelspec": {
   "display_name": "Python 3 (ipykernel)",
   "language": "python",
   "name": "python3"
  },
  "language_info": {
   "codemirror_mode": {
    "name": "ipython",
    "version": 3
   },
   "file_extension": ".py",
   "mimetype": "text/x-python",
   "name": "python",
   "nbconvert_exporter": "python",
   "pygments_lexer": "ipython3",
   "version": "3.9.12"
  }
 },
 "nbformat": 4,
 "nbformat_minor": 5
}
