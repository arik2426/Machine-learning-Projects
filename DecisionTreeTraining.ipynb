{
 "cells": [
  {
   "cell_type": "code",
   "execution_count": 12,
   "id": "be82fd0d",
   "metadata": {},
   "outputs": [],
   "source": [
    "import pandas as pd\n",
    "import numpy as np\n",
    "import matplotlib.pyplot as plt\n",
    "from sklearn.model_selection import train_test_split\n",
    "from sklearn.tree import DecisionTreeClassifier\n",
    "from sklearn import tree\n",
    "from sklearn.metrics import confusion_matrix\n",
    "from sklearn.model_selection import cross_val_score"
   ]
  },
  {
   "cell_type": "code",
   "execution_count": 2,
   "id": "3383b462",
   "metadata": {},
   "outputs": [],
   "source": [
    "# Load the CSV file\n",
    "data = pd.read_csv(\"iris.csv\")\n",
    "\n",
    "#Split to X, Y\n",
    "X=data.iloc[:,0:2]\n",
    "X=np.array(X)\n",
    "Y=data.iloc[:,4]\n",
    "Y=np.array(Y)\n"
   ]
  },
  {
   "cell_type": "code",
   "execution_count": 3,
   "id": "0dbaa7e7",
   "metadata": {},
   "outputs": [],
   "source": [
    "# Split the data into a 70-30 train-test ratio with random_state=0\n",
    "X_train, X_test, Y_train, Y_test = train_test_split(X, Y, test_size=0.3) # each run will be seperate data"
   ]
  },
  {
   "cell_type": "code",
   "execution_count": 4,
   "id": "98056624",
   "metadata": {},
   "outputs": [
    {
     "data": {
      "text/plain": [
       "DecisionTreeClassifier(criterion='entropy', max_depth=2)"
      ]
     },
     "execution_count": 4,
     "metadata": {},
     "output_type": "execute_result"
    }
   ],
   "source": [
    "tree_clf=DecisionTreeClassifier(criterion='entropy', max_depth=2)\n",
    "tree_clf.fit(X_train, Y_train)"
   ]
  },
  {
   "cell_type": "code",
   "execution_count": 5,
   "id": "503d9a23",
   "metadata": {},
   "outputs": [
    {
     "data": {
      "image/png": "[encoded data removed]",
      "text/plain": [
       "<Figure size 360x504 with 1 Axes>"
      ]
     },
     "metadata": {
      "needs_background": "light"
     },
     "output_type": "display_data"
    }
   ],
   "source": [
    "#print the tree\n",
    "plt.figure(figsize=(5,7))\n",
    "ax = plt.axes()\n",
    "tree.plot_tree(tree_clf,filled=True,ax=ax);"
   ]
  },
  {
   "cell_type": "code",
   "execution_count": 6,
   "id": "dd85e1c7",
   "metadata": {},
   "outputs": [],
   "source": [
    "y_hat_train = tree_clf.predict(X_train)"
   ]
  },
  {
   "cell_type": "code",
   "execution_count": 7,
   "id": "ee4d3a7a",
   "metadata": {},
   "outputs": [
    {
     "name": "stdout",
     "output_type": "stream",
     "text": [
      "[[33  0  0]\n",
      " [ 1 10 25]\n",
      " [ 1  1 34]]\n"
     ]
    }
   ],
   "source": [
    "cm_train = confusion_matrix(Y_train, tree_clf.predict(X_train))\n",
    "print(cm_train)"
   ]
  },
  {
   "cell_type": "code",
   "execution_count": 8,
   "id": "0fe06d52",
   "metadata": {},
   "outputs": [
    {
     "data": {
      "text/plain": [
       "0.7333333333333333"
      ]
     },
     "execution_count": 8,
     "metadata": {},
     "output_type": "execute_result"
    }
   ],
   "source": [
    "accuracy_train = cm_train.diagonal().sum()/cm_train.sum()\n",
    "accuracy_train"
   ]
  },
  {
   "cell_type": "code",
   "execution_count": 9,
   "id": "f69f98be",
   "metadata": {},
   "outputs": [
    {
     "name": "stdout",
     "output_type": "stream",
     "text": [
      "[[16  1  0]\n",
      " [ 0  0 14]\n",
      " [ 1  0 13]]\n"
     ]
    }
   ],
   "source": [
    "cm_test = confusion_matrix(Y_test, tree_clf.predict(X_test))\n",
    "print(cm_test)"
   ]
  },
  {
   "cell_type": "code",
   "execution_count": 10,
   "id": "c79bd296",
   "metadata": {
    "scrolled": true
   },
   "outputs": [
    {
     "data": {
      "text/plain": [
       "0.6444444444444445"
      ]
     },
     "execution_count": 10,
     "metadata": {},
     "output_type": "execute_result"
    }
   ],
   "source": [
    "accuracy_test = cm_test.diagonal().sum()/cm_test.sum()\n",
    "accuracy_test"
   ]
  },
  {
   "cell_type": "code",
   "execution_count": 15,
   "id": "48c159a0",
   "metadata": {
    "scrolled": false
   },
   "outputs": [
    {
     "name": "stdout",
     "output_type": "stream",
     "text": [
      "Depth max = 1, Mean Accuracy = 0.5904761904761905\n",
      "Depth max = 2, Mean Accuracy = 0.6857142857142856\n",
      "Depth max = 3, Mean Accuracy = 0.6952380952380953\n",
      "Depth max = 4, Mean Accuracy = 0.6952380952380951\n",
      "Depth max = 5, Mean Accuracy = 0.7047619047619048\n"
     ]
    }
   ],
   "source": [
    "depth_max_values = [1, 2, 3, 4, 5]\n",
    "\n",
    "for depth_max in depth_max_values:\n",
    "    clf = DecisionTreeClassifier(max_depth=depth_max)\n",
    "    scores = cross_val_score(clf, X_train, Y_train, cv=3)\n",
    "    print(\"Depth max = {}, Mean Accuracy = {}\".format(depth_max, np.mean(scores)))\n"
   ]
  },
  {
   "cell_type": "markdown",
   "id": "a907074d",
   "metadata": {},
   "source": [
    "#### לפי התוצאות שקיבלנו, העומק 5 הוא הטוב ביותר בגלל שיש לו את הדיוק הטוב ביותר"
   ]
  },
  {
   "cell_type": "code",
   "execution_count": 16,
   "id": "368fe067",
   "metadata": {},
   "outputs": [
    {
     "name": "stdout",
     "output_type": "stream",
     "text": [
      "Min samples leaf = 1, Mean Accuracy = 0.7047619047619048\n",
      "Min samples leaf = 5, Mean Accuracy = 0.6476190476190476\n",
      "Min samples leaf = 10, Mean Accuracy = 0.6952380952380953\n",
      "Min samples leaf = 20, Mean Accuracy = 0.6\n",
      "Min samples leaf = 50, Mean Accuracy = 0.3428571428571428\n"
     ]
    }
   ],
   "source": [
    "min_samples_leaf_values = [1, 5, 10, 20, 50]\n",
    "\n",
    "for min_samples_leaf in min_samples_leaf_values:\n",
    "    clf.set_params(min_samples_leaf=min_samples_leaf)\n",
    "    scores = cross_val_score(clf, X_train, Y_train , cv=3)\n",
    "    mean_accuracy = np.mean(scores)\n",
    "    print(\"Min samples leaf = {}, Mean Accuracy = {}\".format(min_samples_leaf, mean_accuracy))"
   ]
  },
  {
   "cell_type": "markdown",
   "id": "b9f01011",
   "metadata": {},
   "source": [
    "#### לפי התוצאות שקיבלנו, עלה 1 הוא הטוב ביותר בגלל שיש לו את הדיוק הטוב ביותר"
   ]
  },
  {
   "cell_type": "code",
   "execution_count": 17,
   "id": "86d8e0be",
   "metadata": {},
   "outputs": [
    {
     "name": "stdout",
     "output_type": "stream",
     "text": [
      "Max leaf nodes = 2, Mean Accuracy = 0.5904761904761905\n",
      "Max leaf nodes = 5, Mean Accuracy = 0.6857142857142856\n",
      "Max leaf nodes = 10, Mean Accuracy = 0.7142857142857143\n",
      "Max leaf nodes = 20, Mean Accuracy = 0.7619047619047619\n",
      "Max leaf nodes = 50, Mean Accuracy = 0.7428571428571429\n"
     ]
    }
   ],
   "source": [
    "nodes_leaf_max_values = [2, 5, 10, 20, 50]\n",
    "\n",
    "for nodes_leaf_max in nodes_leaf_max_values:\n",
    "    clf = DecisionTreeClassifier(max_leaf_nodes=nodes_leaf_max)\n",
    "    scores = cross_val_score(clf, X_train, Y_train, cv=3)\n",
    "    print(\"Max leaf nodes = {}, Mean Accuracy = {}\".format(nodes_leaf_max, np.mean(scores)))"
   ]
  },
  {
   "cell_type": "markdown",
   "id": "24b96327",
   "metadata": {},
   "source": [
    "#### לפי התוצאות שקיבלנו, 20 הוא הטוב ביותר בגלל שיש לו את הדיוק הטוב ביותר"
   ]
  },
  {
   "cell_type": "code",
   "execution_count": null,
   "id": "334843ff",
   "metadata": {},
   "outputs": [],
   "source": []
  }
 ],
 "metadata": {
  "kernelspec": {
   "display_name": "Python 3 (ipykernel)",
   "language": "python",
   "name": "python3"
  },
  "language_info": {
   "codemirror_mode": {
    "name": "ipython",
    "version": 3
   },
   "file_extension": ".py",
   "mimetype": "text/x-python",
   "name": "python",
   "nbconvert_exporter": "python",
   "pygments_lexer": "ipython3",
   "version": "3.9.12"
  }
 },
 "nbformat": 4,
 "nbformat_minor": 5
}
